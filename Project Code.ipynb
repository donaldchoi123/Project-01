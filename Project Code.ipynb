{
 "cells": [
  {
   "cell_type": "markdown",
   "metadata": {},
   "source": [
    "## CCIT4088 Programming for Data Science --- Individual Project\n",
    "### Name: Choi King Fai\n",
    "### Student ID: 20083697\n",
    "\n",
    "\n",
    "This is a individual project of CIT4088 Programming for Data Science. The project perform an analysis with June 2015-2019 of meteorological data available at the website of Hong Kong Observatory. The dataset contains daily extract of meteorological elements, such as mean pressure, air temperature, and total rainfall. "
   ]
  },
  {
   "cell_type": "markdown",
   "metadata": {},
   "source": [
    "## Data Collection and Cleaning\n",
    "\n",
    "#The method of Data Collection:\n",
    "1.import library\n",
    "2.Collect and extract the data from June 2015 - 2019 at the website of Hong Kong Observatory\n",
    "3.Store the data to a DataFrame\n",
    "#The method of Data cleaning:\n",
    "1.simplify the columns list\n",
    "2.create the function of data cleaning\n",
    "3.Call the data_cleaning method and Replace all the missing value\n",
    "4.set the index of Day\n",
    "5.change the data type"
   ]
  },
  {
   "cell_type": "code",
   "execution_count": null,
   "metadata": {},
   "outputs": [],
   "source": [
    "#import library\n",
    "import pandas as pd\n",
    "import numpy as np\n",
    "import matplotlib.pyplot as plt\n",
    "import re\n",
    "from pandas import DataFrame\n"
   ]
  },
  {
   "cell_type": "code",
   "execution_count": null,
   "metadata": {},
   "outputs": [],
   "source": [
    "#Collect and extract the data --- June 2019\n",
    "June2019 = pd.read_html('2019June.htm')\n",
    "#Collect and extract the data --- June 2018\n",
    "June2018 = pd.read_html('2018June.htm')\n",
    "#Collect and extract the data --- June 2017\n",
    "June2017 = pd.read_html('2017June.htm')\n",
    "#Collect and extract the data --- June 2016\n",
    "June2016 = pd.read_html('2016June.htm')\n",
    "#Collect and extract the data --- June 2015\n",
    "June2015 = pd.read_html('2015June.htm')"
   ]
  },
  {
   "cell_type": "code",
   "execution_count": null,
   "metadata": {},
   "outputs": [],
   "source": [
    "#store the data to a DataFrame --- June 2019\n",
    "June2019 = pd.DataFrame(June2019[0])\n",
    "#store the data to a DataFrame --- June 2018\n",
    "June2018 = pd.DataFrame(June2018[0])\n",
    "#store the data to a DataFrame --- June 2017\n",
    "June2017 = pd.DataFrame(June2017[0])\n",
    "#store the data to a DataFrame --- June 2016\n",
    "June2016 = pd.DataFrame(June2016[0])\n",
    "#store the data to a DataFrame --- June 2015\n",
    "June2015 = pd.DataFrame(June2015[0])"
   ]
  },
  {
   "cell_type": "code",
   "execution_count": null,
   "metadata": {},
   "outputs": [],
   "source": [
    "#How many rows and columns in my dataset? What is the dimension of my dataset?\n",
    "#June2015, June2016, June2017, June2018, June2019\n",
    "#'2015','2016','2017','2018','2019'\n",
    "dataset = [June2015, June2016, June2017, June2018, June2019]\n",
    "years = ['2015','2016','2017','2018','2019']\n",
    "for x in dataset:\n",
    "    for y in years:\n",
    "        size = x.size \n",
    "        shape = x.shape \n",
    "        df_ndim = x.ndim \n",
    "        print(\"In June\",y,\"\\nSize = {}\\nShape ={}\\nndim of dataframe = {}\\n\". format(size, shape, df_ndim))\n",
    "    break"
   ]
  },
  {
   "cell_type": "code",
   "execution_count": null,
   "metadata": {},
   "outputs": [],
   "source": [
    "#What are the data types (e.g., integer, float) of the data?\n",
    "for x in dataset:\n",
    "    for y in years:\n",
    "        print('In',y)\n",
    "        print(x.dtypes,'\\n')\n",
    "    break"
   ]
  },
  {
   "cell_type": "code",
   "execution_count": null,
   "metadata": {},
   "outputs": [],
   "source": [
    "#Are there any null values or non-numeric data in my dataset?\n",
    "for x in dataset:\n",
    "    for y in years:\n",
    "        print('In',y)\n",
    "        print(x.applymap(np.isreal),'\\n')\n",
    "    break"
   ]
  },
  {
   "cell_type": "code",
   "execution_count": null,
   "metadata": {},
   "outputs": [],
   "source": [
    "#simplify the columns list\n",
    "for x in dataset:\n",
    "    x.columns = x.columns.droplevel(level=[0,1])"
   ]
  },
  {
   "cell_type": "code",
   "execution_count": null,
   "metadata": {},
   "outputs": [],
   "source": [
    "# Function for data cleaning\n",
    "def clean_data(strings):\n",
    "    result=[]\n",
    "    for value in strings:\n",
    "        value = re.sub('[?]','',str(value))\n",
    "        value = re.sub('[#]','',str(value))\n",
    "        result.append(value)\n",
    "    return result"
   ]
  },
  {
   "cell_type": "code",
   "execution_count": null,
   "metadata": {},
   "outputs": [],
   "source": [
    "# Call the data_cleaning method and Replace all the missing value\n",
    "for df in dataset: \n",
    "    for x in df.columns:\n",
    "        df[x] = clean_data(df[x])\n",
    "        df[x].replace('Trace',0 , inplace = True)\n",
    "        df[x].replace('***',0 , inplace = True)"
   ]
  },
  {
   "cell_type": "code",
   "execution_count": null,
   "metadata": {},
   "outputs": [],
   "source": [
    "#set index of Day\n",
    "for i in dataset:\n",
    "    i = i.set_index('Day', inplace = True)"
   ]
  },
  {
   "cell_type": "code",
   "execution_count": null,
   "metadata": {},
   "outputs": [],
   "source": [
    "#change the data type\n",
    "for df in dataset:   \n",
    "    for x in df.columns:\n",
    "        df[x] = df[x].astype(\"float64\")"
   ]
  },
  {
   "cell_type": "markdown",
   "metadata": {},
   "source": [
    "## Basic Analysis"
   ]
  },
  {
   "cell_type": "markdown",
   "metadata": {},
   "source": [
    "### Q1. Calculate the monthly mean air temperature for each of the months."
   ]
  },
  {
   "cell_type": "code",
   "execution_count": null,
   "metadata": {},
   "outputs": [],
   "source": [
    "# Calculate the monthly mean air temperature for each of the months.\n",
    "\n",
    "meanairtemperature = []\n",
    "for df in dataset:\n",
    "    meanairtemperature.append(round(df['Mean (deg. C)'][:30].mean(),1))\n",
    "\n",
    "for y in range(len(years)):\n",
    "    if meanairtemperature[y] == dataset[y].loc['Mean/Total','Mean (deg. C)']:\n",
    "        print('My answer of ',meanairtemperature[y],'is same as the monthly mean temperature provided in',years[y],'dataset.')\n",
    "    else:\n",
    "        print('My answer is not same as the monthly mean temperature provided in',years[y],'dataset.')"
   ]
  },
  {
   "cell_type": "markdown",
   "metadata": {},
   "source": [
    "### Q2. Calculate the monthly total rainfall for each of the months."
   ]
  },
  {
   "cell_type": "code",
   "execution_count": null,
   "metadata": {},
   "outputs": [],
   "source": [
    "# Calculate the monthly total rainfall for each of the months.\n",
    "\n",
    "totalrainfall = []\n",
    "for df in dataset:\n",
    "    totalrainfall.append(round(df['Total Rainfall (mm)'][:30].sum(),1))\n",
    "\n",
    "for y in range(len(years)):\n",
    "    if totalrainfall[y] == dataset[y].loc['Mean/Total','Total Rainfall (mm)']:\n",
    "        print('My answer of',totalrainfall[y],'is same as the monthly total rainfall provided in',years[y],'dataset.')\n",
    "    else:\n",
    "        print('My answer is not same as the monthly total rainfall provided in',years[y],'dataset.')"
   ]
  },
  {
   "cell_type": "markdown",
   "metadata": {},
   "source": [
    "### Q3.  Calculate the monthly mean air temperature range for each of the months."
   ]
  },
  {
   "cell_type": "code",
   "execution_count": null,
   "metadata": {},
   "outputs": [],
   "source": [
    "#Calculate the monthly mean air temperature range for each of the months.\n",
    "\n",
    "mean_air_temperature_range  = []\n",
    "for df in dataset:\n",
    "    mean_air_temperature_range.append(round(df['Absolute Daily Max (deg. C)'][:30].mean() - df['Absolute Daily Min (deg. C)'][:30].mean() , 1))\n",
    "\n",
    "for y in range(len(years)):\n",
    "    print('My answer of',mean_air_temperature_range[y],'is the monthly mean air temperature range in',years[y],'dataset.')"
   ]
  },
  {
   "cell_type": "markdown",
   "metadata": {},
   "source": [
    "### Q4.  Calculate the mean pressure for each of the months."
   ]
  },
  {
   "cell_type": "code",
   "execution_count": null,
   "metadata": {},
   "outputs": [],
   "source": [
    "#Calculate the mean pressure for each of the months.\n",
    "\n",
    "meanpressure = []\n",
    "for df in dataset:\n",
    "    meanpressure.append(round(df['Mean Pressure (hPa)'][:30].mean(),1))\n",
    "\n",
    "for y in range(len(years)):\n",
    "    if meanpressure[y] == dataset[y].loc['Mean/Total','Mean Pressure (hPa)']:\n",
    "        print('My answer of',meanpressure[y],'is same as the mean pressure provided in',years[y],'dataset.')\n",
    "    else:\n",
    "        print('My answer is not same as the mean pressure provided in',years[y],'dataset.')"
   ]
  },
  {
   "cell_type": "markdown",
   "metadata": {},
   "source": [
    "### Q5.  Calculate the daily max air temperature for each of the months."
   ]
  },
  {
   "cell_type": "code",
   "execution_count": null,
   "metadata": {},
   "outputs": [],
   "source": [
    "#Calculate the daily max air temperature for each of the months.\n",
    "daily_max_air_temperature = []\n",
    "for df in dataset:\n",
    "    daily_max_air_temperature.append(round(df['Absolute Daily Max (deg. C)'][:30].mean(),1))\n",
    "\n",
    "for y in range(len(years)):\n",
    "    if daily_max_air_temperature[y] == dataset[y].loc['Mean/Total','Absolute Daily Max (deg. C)']:\n",
    "        print('My answer of',daily_max_air_temperature[y],'is same as the daily max air temperature provided in',years[y],'dataset.')\n",
    "    else:\n",
    "        print('My answer is not same as the daily max air temperature provided in',years[y],'dataset.')"
   ]
  },
  {
   "cell_type": "markdown",
   "metadata": {},
   "source": [
    "### Q6.  Calculate the daily min air temperature for each of the months."
   ]
  },
  {
   "cell_type": "code",
   "execution_count": null,
   "metadata": {},
   "outputs": [],
   "source": [
    "#Calculate the daily min air temperature for each of the months.\n",
    "daily_min_air_temperature = []\n",
    "for df in dataset:\n",
    "    daily_min_air_temperature.append(round(df['Absolute Daily Min (deg. C)'][:30].mean(),1))\n",
    "\n",
    "for y in range(len(years)):\n",
    "    if daily_min_air_temperature[y] == dataset[y].loc['Mean/Total','Absolute Daily Min (deg. C)']:\n",
    "        print('My answer of',daily_min_air_temperature[y],'is same as the daily min air temperature provided in',years[y],'dataset.')\n",
    "    else:\n",
    "        print('My answer is not same as the daily min air temperature provided in',years[y],'dataset.')"
   ]
  },
  {
   "cell_type": "markdown",
   "metadata": {},
   "source": [
    "### Q7. Calculate total bright sunshine hours for each of the months."
   ]
  },
  {
   "cell_type": "code",
   "execution_count": null,
   "metadata": {},
   "outputs": [],
   "source": [
    "#Calculate total bright sunshine hours for each of the months.\n",
    "total_bright_sunshine_hours = []\n",
    "for df in dataset:\n",
    "    total_bright_sunshine_hours.append(round(df['Total Bright Sunshine (hours)'][:30].sum(),1))\n",
    "\n",
    "for y in range(len(years)):\n",
    "    if total_bright_sunshine_hours[y] == dataset[y].loc['Mean/Total','Total Bright Sunshine (hours)']:\n",
    "        print('My answer of',total_bright_sunshine_hours[y],'is same as total bright sunshine hours provided in',years[y],'dataset.')\n",
    "    else:\n",
    "        print('My answer is not same as total bright sunshine hours provided in',years[y],'dataset.')"
   ]
  },
  {
   "cell_type": "code",
   "execution_count": null,
   "metadata": {},
   "outputs": [],
   "source": [
    "#Using the function of describe produce multiple summary statistics with all datasets in one shot.\n",
    "for df in dataset:\n",
    "    for y in years:\n",
    "        print('In June',y)\n",
    "        print(df[:30].describe())"
   ]
  },
  {
   "cell_type": "markdown",
   "metadata": {},
   "source": [
    "## Exploratory analysis"
   ]
  },
  {
   "cell_type": "markdown",
   "metadata": {},
   "source": [
    "### Q1. Study the trend of mean air temperature of June from 2015-2019."
   ]
  },
  {
   "cell_type": "code",
   "execution_count": null,
   "metadata": {},
   "outputs": [],
   "source": [
    "#Study the trend of mean air temperature of June from 2015-2019\n",
    "plt.figure(figsize=(8,5))\n",
    "plt.title('Mean Air Temperature (deg. C)', fontdict={'fontweight':'bold', 'fontsize':18})\n",
    "plt.plot(years,meanairtemperature, label = 'Mean Air Temperature (deg. C)' , linewidth=2, marker='.',linestyle='--',color='r',markersize=15,markerfacecolor='black')\n",
    "plt.ylabel('Temperature (deg. C)')\n",
    "plt.xlabel('Year')\n",
    "plt.legend()\n",
    "plt.savefig('Mean Air Temperature.jpg',dpi=100)\n",
    "plt.show()"
   ]
  },
  {
   "cell_type": "markdown",
   "metadata": {},
   "source": [
    "### Q2. Study on the correlation and  covariance between mean pressure and mean air temperature of June from 2015–2019"
   ]
  },
  {
   "cell_type": "code",
   "execution_count": null,
   "metadata": {},
   "outputs": [],
   "source": [
    "#Study on the correlation between mean pressure and mean air temperature of June from 2015–2019\n",
    "mpandmat = pd.DataFrame({'year' : years,'mean pressure (hPa)':meanpressure , 'mean air temperature (deg. C)':meanairtemperature})\n",
    "mpandmat.corr()"
   ]
  },
  {
   "cell_type": "code",
   "execution_count": null,
   "metadata": {},
   "outputs": [],
   "source": [
    "#Study on the covariance between mean pressure and mean air temperature of June from 2015–2019\n",
    "mpandmat.cov()"
   ]
  },
  {
   "cell_type": "markdown",
   "metadata": {},
   "source": [
    "### Q3. Study on the correlation between daily max air temperature, daily min air temperature and total bright sunshine hours of June from 2015–2019"
   ]
  },
  {
   "cell_type": "code",
   "execution_count": null,
   "metadata": {},
   "outputs": [],
   "source": [
    "#Study on the correlation between daily max air temperature, daily min air temperature and total bright sunshine hours of June from 2015–2019\n",
    "dmatandtbsh = pd.DataFrame({'year':years,'daily max air temperature (deg. C)':daily_max_air_temperature , 'daily min air temperature (deg. C)':daily_min_air_temperature , 'total bright sunshine hours (hours)':total_bright_sunshine_hours})\n",
    "dmatandtbsh.corr(method = 'pearson')"
   ]
  },
  {
   "cell_type": "code",
   "execution_count": null,
   "metadata": {},
   "outputs": [],
   "source": [
    "#the covariance between daily max air temperature, daily min air temperature and total bright sunshine hours of June from 2015–2019\n",
    "dmatandtbsh.cov()"
   ]
  },
  {
   "cell_type": "markdown",
   "metadata": {},
   "source": [
    "### Q4. Combine data"
   ]
  },
  {
   "cell_type": "code",
   "execution_count": null,
   "metadata": {},
   "outputs": [],
   "source": [
    "#combine data \n",
    "#set index of year\n",
    "sevendata = pd.merge(dmatandtbsh,mpandmat)\n",
    "sevendata.insert(6,'total rainfall (mm)',totalrainfall)\n",
    "sevendata.insert(3,'mean air temperature range (deg. C)',mean_air_temperature_range)\n",
    "sevendata.set_index('year',inplace = True)\n",
    "sevendata"
   ]
  },
  {
   "cell_type": "code",
   "execution_count": null,
   "metadata": {},
   "outputs": [],
   "source": [
    "#change the columns position of seven data\n",
    "cols = sevendata.columns.tolist()\n",
    "cols = cols[0:3] +[cols[-2]] +cols[3:5] + [cols[-1]]\n",
    "sevendata = sevendata[cols]\n",
    "sevendata"
   ]
  },
  {
   "cell_type": "code",
   "execution_count": null,
   "metadata": {},
   "outputs": [],
   "source": [
    "#Using the function of describe produces multiple summary statistics with all datasets in one shot.\n",
    "sevendata[sevendata.columns].describe()"
   ]
  },
  {
   "cell_type": "code",
   "execution_count": null,
   "metadata": {},
   "outputs": [],
   "source": [
    "#Using the function of idxmax returns indirect statistics like the index value where the maximum values are attained\n",
    "sevendata.idxmax()"
   ]
  },
  {
   "cell_type": "code",
   "execution_count": null,
   "metadata": {},
   "outputs": [],
   "source": [
    "##Using the function of idxmin returns indirect statistics like the index value where the minimum values are attained\n",
    "sevendata.idxmin()"
   ]
  },
  {
   "cell_type": "markdown",
   "metadata": {},
   "source": [
    "### Q5. plot graph"
   ]
  },
  {
   "cell_type": "code",
   "execution_count": null,
   "metadata": {},
   "outputs": [],
   "source": [
    "# The graph of mean air temperature range (deg. C) \n",
    "plt.figure(figsize=(8,9))\n",
    "plt.title('mean air temperature range (deg. C)', fontdict={'fontweight':'bold', 'fontsize':18})\n",
    "plt.plot(sevendata['mean air temperature range (deg. C)'], label = 'mean air temperature range (deg. C)' , linewidth=2, marker='o',linestyle='-',markersize=20,markerfacecolor='black')\n",
    "plt.ylabel('Temperature (deg. C)')\n",
    "plt.xlabel('Year')\n",
    "plt.legend(loc='upper right')\n",
    "plt.savefig('mean air temperature range.jpg',dpi=100)\n",
    "plt.show()"
   ]
  },
  {
   "cell_type": "code",
   "execution_count": null,
   "metadata": {},
   "outputs": [],
   "source": [
    "#The graph of mean air temperature (deg. C)\n",
    "plt.figure(figsize=(8,9))\n",
    "plt.title('mean air temperature (deg. C)', fontdict={'fontweight':'bold', 'fontsize':18})\n",
    "plt.plot(years,sevendata['mean air temperature (deg. C)'], label = 'mean air temperature (deg. C)' , linewidth=2, marker='.',linestyle='-',markersize=20,markerfacecolor='black', color='r')\n",
    "plt.ylabel('Temperature (deg. C)')\n",
    "plt.xlabel('Year')\n",
    "plt.legend(loc='upper right')\n",
    "plt.savefig('mean air temperature.jpg',dpi=100)\n",
    "plt.show()"
   ]
  },
  {
   "cell_type": "code",
   "execution_count": null,
   "metadata": {},
   "outputs": [],
   "source": [
    "#The graph of total rainfall (mm)\n",
    "plt.figure(figsize=(8,9))\n",
    "plt.bar(years,sevendata['total rainfall (mm)'],color=['black', 'red', 'green', 'blue', 'cyan'])\n",
    "plt.title('total rainfall (mm)', fontdict={'fontweight':'bold', 'fontsize':18})\n",
    "plt.xlabel('Year')\n",
    "plt.ylabel('total rainfall (mm)')\n",
    "plt.savefig('total rainfall.jpg',dpi=100)\n",
    "plt.show()"
   ]
  },
  {
   "cell_type": "code",
   "execution_count": null,
   "metadata": {},
   "outputs": [],
   "source": [
    "#The graph of mean pressure (hPa)\n",
    "plt.figure(figsize=(8,9))\n",
    "plt.title('mean pressure (hPa)', fontdict={'fontweight':'bold', 'fontsize':18})\n",
    "plt.plot(sevendata['mean pressure (hPa)'], label = 'mean pressure (hPa)' , linewidth=2, marker='.',linestyle='-',markersize=20,markerfacecolor='black', color='m')\n",
    "plt.ylabel('pressure (hPa)')\n",
    "plt.xlabel('Year')\n",
    "plt.legend(loc='upper right')\n",
    "plt.savefig('mean pressure.jpg',dpi=100)\n",
    "plt.show()"
   ]
  },
  {
   "cell_type": "code",
   "execution_count": null,
   "metadata": {},
   "outputs": [],
   "source": [
    "#The graph of total bright sunshine hours (hours)\n",
    "plt.figure(figsize=(8,9))\n",
    "plt.title('total bright sunshine hours (hours)', fontdict={'fontweight':'bold', 'fontsize':18})\n",
    "plt.plot(sevendata['total bright sunshine hours (hours)'], label = 'total bright sunshine hours (hours)' , linewidth=2, marker='.',linestyle='-',markersize=20,markerfacecolor='black', color='c')\n",
    "plt.ylabel('hours')\n",
    "plt.xlabel('Year')\n",
    "plt.legend(loc='upper right')\n",
    "plt.savefig('total bright sunshine hours.jpg',dpi=100)\n",
    "plt.show()"
   ]
  }
 ],
 "metadata": {
  "kernelspec": {
   "display_name": "Python 3",
   "language": "python",
   "name": "python3"
  },
  "language_info": {
   "codemirror_mode": {
    "name": "ipython",
    "version": 3
   },
   "file_extension": ".py",
   "mimetype": "text/x-python",
   "name": "python",
   "nbconvert_exporter": "python",
   "pygments_lexer": "ipython3",
   "version": "3.7.4"
  }
 },
 "nbformat": 4,
 "nbformat_minor": 2
}
